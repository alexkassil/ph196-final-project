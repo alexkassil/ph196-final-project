{
  "nbformat": 4,
  "nbformat_minor": 0,
  "metadata": {
    "kernelspec": {
      "display_name": "Python 3",
      "language": "python",
      "name": "python3"
    },
    "language_info": {
      "codemirror_mode": {
        "name": "ipython",
        "version": 3
      },
      "file_extension": ".py",
      "mimetype": "text/x-python",
      "name": "python",
      "nbconvert_exporter": "python",
      "pygments_lexer": "ipython3",
      "version": "3.5.2"
    },
    "colab": {
      "name": "TreeModel.ipynb",
      "provenance": []
    }
  },
  "cells": [
    {
      "cell_type": "code",
      "metadata": {
        "id": "Dof0ZBDxY8w_"
      },
      "source": [
        "import csv\n",
        "import pandas as pd\n",
        "import numpy as np"
      ],
      "execution_count": 3,
      "outputs": []
    },
    {
      "cell_type": "code",
      "metadata": {
        "colab": {
          "base_uri": "https://localhost:8080/"
        },
        "id": "orqIVfbfY8xL",
        "outputId": "b2bdab6b-95a4-46ae-d7e5-215f43d0d2b8"
      },
      "source": [
        "from google.colab import drive\n",
        "drive.mount('/content/drive')\n",
        "data = pd.read_csv('/content/drive/MyDrive/pb196/data.csv')"
      ],
      "execution_count": 4,
      "outputs": [
        {
          "output_type": "stream",
          "text": [
            "Mounted at /content/drive\n"
          ],
          "name": "stdout"
        },
        {
          "output_type": "stream",
          "text": [
            "/usr/local/lib/python3.6/dist-packages/IPython/core/interactiveshell.py:2718: DtypeWarning: Columns (6,10,22,27) have mixed types.Specify dtype option on import or set low_memory=False.\n",
            "  interactivity=interactivity, compiler=compiler, result=result)\n"
          ],
          "name": "stderr"
        }
      ]
    },
    {
      "cell_type": "code",
      "metadata": {
        "colab": {
          "base_uri": "https://localhost:8080/",
          "height": 343
        },
        "id": "dLF3twApY8xO",
        "outputId": "b653f0f8-b782-493d-c13f-c946365fae37"
      },
      "source": [
        "data.head()"
      ],
      "execution_count": 5,
      "outputs": [
        {
          "output_type": "execute_result",
          "data": {
            "text/html": [
              "<div>\n",
              "<style scoped>\n",
              "    .dataframe tbody tr th:only-of-type {\n",
              "        vertical-align: middle;\n",
              "    }\n",
              "\n",
              "    .dataframe tbody tr th {\n",
              "        vertical-align: top;\n",
              "    }\n",
              "\n",
              "    .dataframe thead th {\n",
              "        text-align: right;\n",
              "    }\n",
              "</style>\n",
              "<table border=\"1\" class=\"dataframe\">\n",
              "  <thead>\n",
              "    <tr style=\"text-align: right;\">\n",
              "      <th></th>\n",
              "      <th>raw_row_number</th>\n",
              "      <th>date</th>\n",
              "      <th>time</th>\n",
              "      <th>location</th>\n",
              "      <th>lat</th>\n",
              "      <th>lng</th>\n",
              "      <th>beat</th>\n",
              "      <th>subject_age</th>\n",
              "      <th>subject_race</th>\n",
              "      <th>subject_sex</th>\n",
              "      <th>officer_assignment</th>\n",
              "      <th>type</th>\n",
              "      <th>arrest_made</th>\n",
              "      <th>citation_issued</th>\n",
              "      <th>warning_issued</th>\n",
              "      <th>outcome</th>\n",
              "      <th>contraband_found</th>\n",
              "      <th>contraband_drugs</th>\n",
              "      <th>contraband_weapons</th>\n",
              "      <th>search_conducted</th>\n",
              "      <th>search_basis</th>\n",
              "      <th>reason_for_stop</th>\n",
              "      <th>use_of_force_description</th>\n",
              "      <th>raw_subject_sdrace</th>\n",
              "      <th>raw_subject_resultofencounter</th>\n",
              "      <th>raw_subject_searchconducted</th>\n",
              "      <th>raw_subject_typeofsearch</th>\n",
              "      <th>raw_subject_resultofsearch</th>\n",
              "    </tr>\n",
              "  </thead>\n",
              "  <tbody>\n",
              "    <tr>\n",
              "      <th>0</th>\n",
              "      <td>17213</td>\n",
              "      <td>NaN</td>\n",
              "      <td>01:33:00</td>\n",
              "      <td>E. 28th St. &amp; Park BLVD</td>\n",
              "      <td>37.803084</td>\n",
              "      <td>-122.237247</td>\n",
              "      <td>NaN</td>\n",
              "      <td>NaN</td>\n",
              "      <td>asian/pacific islander</td>\n",
              "      <td>female</td>\n",
              "      <td>NaN</td>\n",
              "      <td>vehicular</td>\n",
              "      <td>False</td>\n",
              "      <td>True</td>\n",
              "      <td>False</td>\n",
              "      <td>citation</td>\n",
              "      <td>NaN</td>\n",
              "      <td>NaN</td>\n",
              "      <td>NaN</td>\n",
              "      <td>False</td>\n",
              "      <td>NaN</td>\n",
              "      <td>Traffic Violation</td>\n",
              "      <td>NaN</td>\n",
              "      <td>A</td>\n",
              "      <td>Citation,</td>\n",
              "      <td>No</td>\n",
              "      <td>NaN</td>\n",
              "      <td>NaN</td>\n",
              "    </tr>\n",
              "    <tr>\n",
              "      <th>1</th>\n",
              "      <td>17214</td>\n",
              "      <td>NaN</td>\n",
              "      <td>14:48:00</td>\n",
              "      <td>1759 SEMINARY AV</td>\n",
              "      <td>37.767568</td>\n",
              "      <td>-122.196820</td>\n",
              "      <td>NaN</td>\n",
              "      <td>NaN</td>\n",
              "      <td>black</td>\n",
              "      <td>male</td>\n",
              "      <td>NaN</td>\n",
              "      <td>NaN</td>\n",
              "      <td>False</td>\n",
              "      <td>False</td>\n",
              "      <td>False</td>\n",
              "      <td>NaN</td>\n",
              "      <td>False</td>\n",
              "      <td>False</td>\n",
              "      <td>False</td>\n",
              "      <td>True</td>\n",
              "      <td>other</td>\n",
              "      <td>Probation/Parole</td>\n",
              "      <td>NaN</td>\n",
              "      <td>B</td>\n",
              "      <td>FI Report,</td>\n",
              "      <td>Yes</td>\n",
              "      <td>Prob./Parole,</td>\n",
              "      <td>NaN</td>\n",
              "    </tr>\n",
              "    <tr>\n",
              "      <th>2</th>\n",
              "      <td>1</td>\n",
              "      <td>2013-04-01</td>\n",
              "      <td>00:00:00</td>\n",
              "      <td>31st St And Mlk Jr Way</td>\n",
              "      <td>37.820599</td>\n",
              "      <td>-122.270734</td>\n",
              "      <td>NaN</td>\n",
              "      <td>NaN</td>\n",
              "      <td>white</td>\n",
              "      <td>male</td>\n",
              "      <td>NaN</td>\n",
              "      <td>vehicular</td>\n",
              "      <td>False</td>\n",
              "      <td>False</td>\n",
              "      <td>True</td>\n",
              "      <td>warning</td>\n",
              "      <td>False</td>\n",
              "      <td>False</td>\n",
              "      <td>False</td>\n",
              "      <td>True</td>\n",
              "      <td>other</td>\n",
              "      <td>Traffic Violation</td>\n",
              "      <td>NaN</td>\n",
              "      <td>W</td>\n",
              "      <td>Warning,</td>\n",
              "      <td>Yes</td>\n",
              "      <td>Prob./Parole,</td>\n",
              "      <td>NaN</td>\n",
              "    </tr>\n",
              "    <tr>\n",
              "      <th>3</th>\n",
              "      <td>2</td>\n",
              "      <td>2013-04-01</td>\n",
              "      <td>00:01:00</td>\n",
              "      <td>3000 Block Of San Pablo Ave</td>\n",
              "      <td>37.821246</td>\n",
              "      <td>-122.276488</td>\n",
              "      <td>NaN</td>\n",
              "      <td>NaN</td>\n",
              "      <td>black</td>\n",
              "      <td>male</td>\n",
              "      <td>NaN</td>\n",
              "      <td>vehicular</td>\n",
              "      <td>False</td>\n",
              "      <td>False</td>\n",
              "      <td>False</td>\n",
              "      <td>NaN</td>\n",
              "      <td>NaN</td>\n",
              "      <td>NaN</td>\n",
              "      <td>NaN</td>\n",
              "      <td>False</td>\n",
              "      <td>NaN</td>\n",
              "      <td>Traffic Violation</td>\n",
              "      <td>NaN</td>\n",
              "      <td>B</td>\n",
              "      <td>FI Report,</td>\n",
              "      <td>No</td>\n",
              "      <td>NaN</td>\n",
              "      <td>NaN</td>\n",
              "    </tr>\n",
              "    <tr>\n",
              "      <th>4</th>\n",
              "      <td>19</td>\n",
              "      <td>2013-04-01</td>\n",
              "      <td>10:41:00</td>\n",
              "      <td>12th St/Broadway</td>\n",
              "      <td>37.802937</td>\n",
              "      <td>-122.271738</td>\n",
              "      <td>NaN</td>\n",
              "      <td>NaN</td>\n",
              "      <td>hispanic</td>\n",
              "      <td>female</td>\n",
              "      <td>NaN</td>\n",
              "      <td>NaN</td>\n",
              "      <td>False</td>\n",
              "      <td>True</td>\n",
              "      <td>False</td>\n",
              "      <td>citation</td>\n",
              "      <td>NaN</td>\n",
              "      <td>NaN</td>\n",
              "      <td>NaN</td>\n",
              "      <td>False</td>\n",
              "      <td>NaN</td>\n",
              "      <td>Probable Cause</td>\n",
              "      <td>NaN</td>\n",
              "      <td>H</td>\n",
              "      <td>Citation,</td>\n",
              "      <td>No</td>\n",
              "      <td>NaN</td>\n",
              "      <td>NaN</td>\n",
              "    </tr>\n",
              "  </tbody>\n",
              "</table>\n",
              "</div>"
            ],
            "text/plain": [
              "  raw_row_number  ... raw_subject_resultofsearch\n",
              "0          17213  ...                        NaN\n",
              "1          17214  ...                        NaN\n",
              "2              1  ...                        NaN\n",
              "3              2  ...                        NaN\n",
              "4             19  ...                        NaN\n",
              "\n",
              "[5 rows x 28 columns]"
            ]
          },
          "metadata": {
            "tags": []
          },
          "execution_count": 5
        }
      ]
    },
    {
      "cell_type": "code",
      "metadata": {
        "colab": {
          "base_uri": "https://localhost:8080/"
        },
        "id": "FyLJH1X5Y8xP",
        "outputId": "84bc331c-1b25-41b5-df7c-8d8f8c2d6ed7"
      },
      "source": [
        "set(data['subject_race'])"
      ],
      "execution_count": 6,
      "outputs": [
        {
          "output_type": "execute_result",
          "data": {
            "text/plain": [
              "{'asian/pacific islander', 'black', 'hispanic', 'other', 'white'}"
            ]
          },
          "metadata": {
            "tags": []
          },
          "execution_count": 6
        }
      ]
    },
    {
      "cell_type": "code",
      "metadata": {
        "colab": {
          "base_uri": "https://localhost:8080/"
        },
        "id": "RlfUtGTrY8xP",
        "outputId": "4ce14343-bc4b-443f-aea1-203291b394f0"
      },
      "source": [
        "data.columns"
      ],
      "execution_count": 7,
      "outputs": [
        {
          "output_type": "execute_result",
          "data": {
            "text/plain": [
              "Index(['raw_row_number', 'date', 'time', 'location', 'lat', 'lng', 'beat',\n",
              "       'subject_age', 'subject_race', 'subject_sex', 'officer_assignment',\n",
              "       'type', 'arrest_made', 'citation_issued', 'warning_issued', 'outcome',\n",
              "       'contraband_found', 'contraband_drugs', 'contraband_weapons',\n",
              "       'search_conducted', 'search_basis', 'reason_for_stop',\n",
              "       'use_of_force_description', 'raw_subject_sdrace',\n",
              "       'raw_subject_resultofencounter', 'raw_subject_searchconducted',\n",
              "       'raw_subject_typeofsearch', 'raw_subject_resultofsearch'],\n",
              "      dtype='object')"
            ]
          },
          "metadata": {
            "tags": []
          },
          "execution_count": 7
        }
      ]
    },
    {
      "cell_type": "code",
      "metadata": {
        "id": "5SPs2APYY8xQ"
      },
      "source": [
        "data['action'] = data['citation_issued'] | data['arrest_made']"
      ],
      "execution_count": 8,
      "outputs": []
    },
    {
      "cell_type": "code",
      "metadata": {
        "scrolled": true,
        "id": "WSu5F1_AY8xQ"
      },
      "source": [
        "inputs = ['subject_race', 'subject_sex', 'lat', 'lng', 'subject_age', 'reason_for_stop']\n",
        "label = ['action']"
      ],
      "execution_count": 9,
      "outputs": []
    },
    {
      "cell_type": "code",
      "metadata": {
        "colab": {
          "base_uri": "https://localhost:8080/"
        },
        "id": "c_PDhcbVY8xQ",
        "outputId": "2f61f517-f923-405a-e657-c656bce76948"
      },
      "source": [
        "data['subject_age'].median()"
      ],
      "execution_count": 10,
      "outputs": [
        {
          "output_type": "execute_result",
          "data": {
            "text/plain": [
              "29.0"
            ]
          },
          "metadata": {
            "tags": []
          },
          "execution_count": 10
        }
      ]
    },
    {
      "cell_type": "code",
      "metadata": {
        "id": "KWkv_04GY8xR"
      },
      "source": [
        "data['subject_age'] = data['subject_age'].fillna(data['subject_age'].median())"
      ],
      "execution_count": 11,
      "outputs": []
    },
    {
      "cell_type": "code",
      "metadata": {
        "colab": {
          "base_uri": "https://localhost:8080/"
        },
        "id": "M5X0fuPnY8xR",
        "outputId": "6a2baef5-910d-4d26-e0d3-2c9a6ba1bd08"
      },
      "source": [
        "set(data['reason_for_stop'])"
      ],
      "execution_count": 12,
      "outputs": [
        {
          "output_type": "execute_result",
          "data": {
            "text/plain": [
              "{'Consensual Encounter',\n",
              " 'Consensual Encounter|Consensual Encounter|Consensual Encounter|Traffic Violation',\n",
              " 'Consensual Encounter|Consensual Encounter|Probable Cause',\n",
              " 'Consensual Encounter|Consensual Encounter|Probable Cause|Reasonable Suspicion',\n",
              " 'Consensual Encounter|Consensual Encounter|Reasonable Suspicion|Reasonable Suspicion',\n",
              " 'Consensual Encounter|Consensual Encounter|Traffic Violation',\n",
              " 'Consensual Encounter|Probable Cause',\n",
              " 'Consensual Encounter|Probable Cause|Consensual Encounter',\n",
              " 'Consensual Encounter|Probable Cause|Consensual Encounter|Probable Cause',\n",
              " 'Consensual Encounter|Probable Cause|Probable Cause|Probable Cause|Probable Cause',\n",
              " 'Consensual Encounter|Probable Cause|Probation/Parole',\n",
              " 'Consensual Encounter|Probation/Parole',\n",
              " 'Consensual Encounter|Reasonable Suspicion',\n",
              " 'Consensual Encounter|Reasonable Suspicion|Reasonable Suspicion',\n",
              " 'Consensual Encounter|Traffic Violation',\n",
              " 'Consensual Encounter|Traffic Violation|Traffic Violation',\n",
              " 'Other-Consensual,',\n",
              " 'Probable Cause',\n",
              " 'Probable Cause,',\n",
              " 'Probable Cause|Consensual Encounter',\n",
              " 'Probable Cause|Consensual Encounter|Consensual Encounter',\n",
              " 'Probable Cause|Probable Cause,',\n",
              " 'Probable Cause|Probable Cause|Consensual Encounter',\n",
              " 'Probable Cause|Probable Cause|Consensual Encounter|Consensual Encounter',\n",
              " 'Probable Cause|Probable Cause|Probable Cause|Probable Cause|Probable Cause|Probation/Parole|Probable Cause',\n",
              " 'Probable Cause|Probable Cause|Probable Cause|Probable Cause|Probable Cause|Reasonable Suspicion|Reasonable Suspicion|Reasonable Suspicion|Probable Cause|Probable Cause|Probable Cause|Probable Cause',\n",
              " 'Probable Cause|Probable Cause|Probable Cause|Reasonable Suspicion',\n",
              " 'Probable Cause|Probable Cause|Reasonable Suspicion',\n",
              " 'Probable Cause|Probable Cause|Reasonable Suspicion|Reasonable Suspicion|Reasonable Suspicion|Reasonable Suspicion|Probable Cause',\n",
              " 'Probable Cause|Probable Cause|Traffic Violation',\n",
              " 'Probable Cause|Probation/Parole',\n",
              " 'Probable Cause|Probation/Parole|Consensual Encounter',\n",
              " 'Probable Cause|Probation/Parole|Probable Cause',\n",
              " 'Probable Cause|Probation/Parole|Probable Cause|Probable Cause',\n",
              " 'Probable Cause|Probation/Parole|Probable Cause|Probation/Parole|Probable Cause',\n",
              " 'Probable Cause|Probation/Parole|Probation/Parole',\n",
              " 'Probable Cause|Probation/Parole|Probation/Parole|Traffic Violation|Probation/Parole',\n",
              " 'Probable Cause|Reasonable Suspicion',\n",
              " 'Probable Cause|Reasonable Suspicion|Probable Cause',\n",
              " 'Probable Cause|Reasonable Suspicion|Probable Cause|Probable Cause|Probable Cause|Probable Cause|Probable Cause',\n",
              " 'Probable Cause|Reasonable Suspicion|Reasonable Suspicion',\n",
              " 'Probable Cause|Traffic Violation',\n",
              " 'Probable Cause|Traffic Violation|Probable Cause',\n",
              " 'Probable Cause|Traffic Violation|Reasonable Suspicion',\n",
              " 'Probable Cause|Traffic Violation|Traffic Violation',\n",
              " 'Probable Cause|Traffic Violation|Traffic Violation|Traffic Violation',\n",
              " 'Probation/Parole',\n",
              " 'Probation/Parole|Consensual Encounter',\n",
              " 'Probation/Parole|Consensual Encounter|Consensual Encounter',\n",
              " 'Probation/Parole|Consensual Encounter|Probation/Parole|Consensual Encounter',\n",
              " 'Probation/Parole|Probable Cause',\n",
              " 'Probation/Parole|Probable Cause|Consensual Encounter|Reasonable Suspicion',\n",
              " 'Probation/Parole|Probable Cause|Probable Cause',\n",
              " 'Probation/Parole|Probable Cause|Probable Cause|Probable Cause',\n",
              " 'Probation/Parole|Probable Cause|Probation/Parole',\n",
              " 'Probation/Parole|Probable Cause|Traffic Violation',\n",
              " 'Probation/Parole|Probation/Parole|Probable Cause|Probable Cause',\n",
              " 'Probation/Parole|Probation/Parole|Probation/Parole|Probable Cause',\n",
              " 'Probation/Parole|Probation/Parole|Reasonable Suspicion',\n",
              " 'Probation/Parole|Probation/Parole|Reasonable Suspicion|Reasonable Suspicion',\n",
              " 'Probation/Parole|Probation/Parole|Traffic Violation',\n",
              " 'Probation/Parole|Reasonable Suspicion',\n",
              " 'Probation/Parole|Reasonable Suspicion|Reasonable Suspicion',\n",
              " 'Probation/Parole|Reasonable Suspicion|Reasonable Suspicion|Probation/Parole',\n",
              " 'Probation/Parole|Reasonable Suspicion|Reasonable Suspicion|Reasonable Suspicion|Reasonable Suspicion',\n",
              " 'Probation/Parole|Traffic Violation',\n",
              " 'Probation/Parole|Traffic Violation|Traffic Violation',\n",
              " 'Reasonable Suspicion',\n",
              " 'Reasonable Suspicion|Consensual Encounter',\n",
              " 'Reasonable Suspicion|Consensual Encounter|Probable Cause',\n",
              " 'Reasonable Suspicion|Probable Cause',\n",
              " 'Reasonable Suspicion|Probable Cause|Probable Cause',\n",
              " 'Reasonable Suspicion|Probable Cause|Probable Cause|Probable Cause',\n",
              " 'Reasonable Suspicion|Probable Cause|Probation/Parole',\n",
              " 'Reasonable Suspicion|Probable Cause|Reasonable Suspicion',\n",
              " 'Reasonable Suspicion|Probable Cause|Reasonable Suspicion|Reasonable Suspicion|Probable Cause',\n",
              " 'Reasonable Suspicion|Probable Cause|Traffic Violation|Probable Cause|Reasonable Suspicion|Reasonable Suspicion|Traffic Violation',\n",
              " 'Reasonable Suspicion|Probation/Parole',\n",
              " 'Reasonable Suspicion|Probation/Parole|Probable Cause',\n",
              " 'Reasonable Suspicion|Probation/Parole|Reasonable Suspicion',\n",
              " 'Reasonable Suspicion|Reasonable Suspicion|Consensual Encounter',\n",
              " 'Reasonable Suspicion|Reasonable Suspicion|Probable Cause',\n",
              " 'Reasonable Suspicion|Reasonable Suspicion|Probable Cause|Reasonable Suspicion',\n",
              " 'Reasonable Suspicion|Reasonable Suspicion|Probation/Parole',\n",
              " 'Reasonable Suspicion|Reasonable Suspicion|Reasonable Suspicion|Probable Cause',\n",
              " 'Reasonable Suspicion|Reasonable Suspicion|Traffic Violation',\n",
              " 'Reasonable Suspicion|Reasonable Suspicion|Traffic Violation|Reasonable Suspicion',\n",
              " 'Reasonable Suspicion|Traffic Violation',\n",
              " 'Reasonable Suspicion|Traffic Violation|Traffic Violation',\n",
              " 'Traffic Violation',\n",
              " 'Traffic Violation|Consensual Encounter',\n",
              " 'Traffic Violation|Consensual Encounter|Consensual Encounter',\n",
              " 'Traffic Violation|Consensual Encounter|Traffic Violation',\n",
              " 'Traffic Violation|Probable Cause',\n",
              " 'Traffic Violation|Probable Cause|Probable Cause',\n",
              " 'Traffic Violation|Probable Cause|Probable Cause|Probable Cause',\n",
              " 'Traffic Violation|Probable Cause|Traffic Violation',\n",
              " 'Traffic Violation|Probable Cause|Traffic Violation|Traffic Violation',\n",
              " 'Traffic Violation|Probation/Parole',\n",
              " 'Traffic Violation|Probation/Parole|Probation/Parole|Traffic Violation',\n",
              " 'Traffic Violation|Probation/Parole|Traffic Violation|Traffic Violation',\n",
              " 'Traffic Violation|Reasonable Suspicion',\n",
              " 'Traffic Violation|Reasonable Suspicion|Probable Cause',\n",
              " 'Traffic Violation|Reasonable Suspicion|Probable Cause|Traffic Violation|Traffic Violation',\n",
              " 'Traffic Violation|Reasonable Suspicion|Reasonable Suspicion',\n",
              " 'Traffic Violation|Traffic Violation|Probable Cause',\n",
              " 'Traffic Violation|Traffic Violation|Probable Cause|Probable Cause',\n",
              " 'Traffic Violation|Traffic Violation|Probation/Parole',\n",
              " 'Traffic Violation|Traffic Violation|Reasonable Suspicion',\n",
              " 'Traffic Violation|Traffic Violation|Traffic Violation|Probable Cause',\n",
              " 'Traffic Violation|Traffic Violation|Traffic Violation|Traffic Violation|Consensual Encounter',\n",
              " 'Traffic Violation|Traffic Violation|Traffic Violation|Traffic Violation|Probable Cause',\n",
              " 'Traffic Violation|Traffic Violation|Traffic Violation|Traffic Violation|Reasonable Suspicion'}"
            ]
          },
          "metadata": {
            "tags": []
          },
          "execution_count": 12
        }
      ]
    },
    {
      "cell_type": "code",
      "metadata": {
        "scrolled": true,
        "colab": {
          "base_uri": "https://localhost:8080/",
          "height": 204
        },
        "id": "iJQiQT8-Y8xS",
        "outputId": "814d9297-a67f-4a44-d591-edfd1f685162"
      },
      "source": [
        "data[inputs + label].head()"
      ],
      "execution_count": 13,
      "outputs": [
        {
          "output_type": "execute_result",
          "data": {
            "text/html": [
              "<div>\n",
              "<style scoped>\n",
              "    .dataframe tbody tr th:only-of-type {\n",
              "        vertical-align: middle;\n",
              "    }\n",
              "\n",
              "    .dataframe tbody tr th {\n",
              "        vertical-align: top;\n",
              "    }\n",
              "\n",
              "    .dataframe thead th {\n",
              "        text-align: right;\n",
              "    }\n",
              "</style>\n",
              "<table border=\"1\" class=\"dataframe\">\n",
              "  <thead>\n",
              "    <tr style=\"text-align: right;\">\n",
              "      <th></th>\n",
              "      <th>subject_race</th>\n",
              "      <th>subject_sex</th>\n",
              "      <th>lat</th>\n",
              "      <th>lng</th>\n",
              "      <th>subject_age</th>\n",
              "      <th>reason_for_stop</th>\n",
              "      <th>action</th>\n",
              "    </tr>\n",
              "  </thead>\n",
              "  <tbody>\n",
              "    <tr>\n",
              "      <th>0</th>\n",
              "      <td>asian/pacific islander</td>\n",
              "      <td>female</td>\n",
              "      <td>37.803084</td>\n",
              "      <td>-122.237247</td>\n",
              "      <td>29.0</td>\n",
              "      <td>Traffic Violation</td>\n",
              "      <td>True</td>\n",
              "    </tr>\n",
              "    <tr>\n",
              "      <th>1</th>\n",
              "      <td>black</td>\n",
              "      <td>male</td>\n",
              "      <td>37.767568</td>\n",
              "      <td>-122.196820</td>\n",
              "      <td>29.0</td>\n",
              "      <td>Probation/Parole</td>\n",
              "      <td>False</td>\n",
              "    </tr>\n",
              "    <tr>\n",
              "      <th>2</th>\n",
              "      <td>white</td>\n",
              "      <td>male</td>\n",
              "      <td>37.820599</td>\n",
              "      <td>-122.270734</td>\n",
              "      <td>29.0</td>\n",
              "      <td>Traffic Violation</td>\n",
              "      <td>False</td>\n",
              "    </tr>\n",
              "    <tr>\n",
              "      <th>3</th>\n",
              "      <td>black</td>\n",
              "      <td>male</td>\n",
              "      <td>37.821246</td>\n",
              "      <td>-122.276488</td>\n",
              "      <td>29.0</td>\n",
              "      <td>Traffic Violation</td>\n",
              "      <td>False</td>\n",
              "    </tr>\n",
              "    <tr>\n",
              "      <th>4</th>\n",
              "      <td>hispanic</td>\n",
              "      <td>female</td>\n",
              "      <td>37.802937</td>\n",
              "      <td>-122.271738</td>\n",
              "      <td>29.0</td>\n",
              "      <td>Probable Cause</td>\n",
              "      <td>True</td>\n",
              "    </tr>\n",
              "  </tbody>\n",
              "</table>\n",
              "</div>"
            ],
            "text/plain": [
              "             subject_race subject_sex  ...    reason_for_stop  action\n",
              "0  asian/pacific islander      female  ...  Traffic Violation    True\n",
              "1                   black        male  ...   Probation/Parole   False\n",
              "2                   white        male  ...  Traffic Violation   False\n",
              "3                   black        male  ...  Traffic Violation   False\n",
              "4                hispanic      female  ...     Probable Cause    True\n",
              "\n",
              "[5 rows x 7 columns]"
            ]
          },
          "metadata": {
            "tags": []
          },
          "execution_count": 13
        }
      ]
    },
    {
      "cell_type": "code",
      "metadata": {
        "id": "eMqU6ZNYY8xT"
      },
      "source": [
        "races = list(set(data['subject_race']))\n",
        "sexes = list(set(data['subject_sex']))\n",
        "reasons = list(set(data['reason_for_stop']))"
      ],
      "execution_count": 14,
      "outputs": []
    },
    {
      "cell_type": "code",
      "metadata": {
        "id": "PXgUz-ouY8xT"
      },
      "source": [
        "data['clean_lng'] = data['lng'] - data['lng'].mean() \n",
        "data['clean_lat'] = data['lat'] - data['lat'].mean()\n",
        "data['clean_age'] = data['subject_age'] - data['subject_age'].mean()"
      ],
      "execution_count": 15,
      "outputs": []
    },
    {
      "cell_type": "code",
      "metadata": {
        "scrolled": true,
        "id": "GwmsMcB9Y8xT"
      },
      "source": [
        "data['race'] = data.apply(lambda row: races.index(row['subject_race']), axis=1)\n",
        "data['sex']= data.apply(lambda row: sexes.index(row['subject_sex']), axis=1)\n",
        "data['reason']= data.apply(lambda row: reasons.index(row['reason_for_stop']), axis=1).astype(int)"
      ],
      "execution_count": 16,
      "outputs": []
    },
    {
      "cell_type": "code",
      "metadata": {
        "id": "PJ45apMcY8xU"
      },
      "source": [
        "inputs = ['race', 'sex', 'clean_lat', 'clean_lng', 'clean_age']#, 'reason']\n",
        "label = 'action'"
      ],
      "execution_count": 17,
      "outputs": []
    },
    {
      "cell_type": "markdown",
      "metadata": {
        "id": "0axOae1HZNiH"
      },
      "source": [
        "## XGBoost Model"
      ]
    },
    {
      "cell_type": "code",
      "metadata": {
        "id": "3hs8CwYHZN4n"
      },
      "source": [
        "import xgboost as xgb\n",
        "from sklearn.model_selection import train_test_split"
      ],
      "execution_count": 18,
      "outputs": []
    },
    {
      "cell_type": "code",
      "metadata": {
        "colab": {
          "base_uri": "https://localhost:8080/"
        },
        "id": "UKshcRyfZPW3",
        "outputId": "68fa240f-2566-4b8b-a195-0a7fef60c8a9"
      },
      "source": [
        "data_clean = data[inputs + [label]].dropna(axis = 0, subset= inputs + [label])\n",
        "X = data_clean[inputs]\n",
        "y = data_clean[label]\n",
        "X.shape, y.shape"
      ],
      "execution_count": 19,
      "outputs": [
        {
          "output_type": "execute_result",
          "data": {
            "text/plain": [
              "((133293, 5), (133293,))"
            ]
          },
          "metadata": {
            "tags": []
          },
          "execution_count": 19
        }
      ]
    },
    {
      "cell_type": "code",
      "metadata": {
        "id": "z995YB2gbMKx"
      },
      "source": [
        "X_train, X_test, y_train, y_test = train_test_split(X, y, test_size=0.1, random_state=42)"
      ],
      "execution_count": 20,
      "outputs": []
    },
    {
      "cell_type": "code",
      "metadata": {
        "colab": {
          "base_uri": "https://localhost:8080/"
        },
        "id": "mBIaXiiQbMSk",
        "outputId": "53105256-eca3-4b33-c135-54b4c5bc075b"
      },
      "source": [
        "xgbr = xgb.XGBClassifier(learning_rate = 0.15, booster = \"gbtree\", max_depth = 15, eta = 0.5, n_estimators = 150) \n",
        "xgbr.fit(X_train, y_train)\n"
      ],
      "execution_count": 23,
      "outputs": [
        {
          "output_type": "execute_result",
          "data": {
            "text/plain": [
              "XGBClassifier(base_score=0.5, booster='gbtree', colsample_bylevel=1,\n",
              "              colsample_bynode=1, colsample_bytree=1, eta=0.5, gamma=0,\n",
              "              learning_rate=0.15, max_delta_step=0, max_depth=15,\n",
              "              min_child_weight=1, missing=None, n_estimators=150, n_jobs=1,\n",
              "              nthread=None, objective='binary:logistic', random_state=0,\n",
              "              reg_alpha=0, reg_lambda=1, scale_pos_weight=1, seed=None,\n",
              "              silent=None, subsample=1, verbosity=1)"
            ]
          },
          "metadata": {
            "tags": []
          },
          "execution_count": 23
        }
      ]
    },
    {
      "cell_type": "code",
      "metadata": {
        "colab": {
          "base_uri": "https://localhost:8080/"
        },
        "id": "vu6LDbD8cHW6",
        "outputId": "dc585f6f-55be-4aa7-c4eb-3715b5183187"
      },
      "source": [
        "print(np.mean(xgbr.predict(X_train) == y_train))\n",
        "print(np.mean(xgbr.predict(X_test) == y_test))"
      ],
      "execution_count": 24,
      "outputs": [
        {
          "output_type": "stream",
          "text": [
            "0.7373523503080116\n",
            "0.5834958739684921\n"
          ],
          "name": "stdout"
        }
      ]
    },
    {
      "cell_type": "code",
      "metadata": {
        "colab": {
          "base_uri": "https://localhost:8080/",
          "height": 282
        },
        "id": "TSkleP5DbbDy",
        "outputId": "b7762b95-a04b-4bbc-bd25-20b4587c70bf"
      },
      "source": [
        "import seaborn\n",
        "import sklearn\n",
        "from sklearn.metrics import confusion_matrix\n",
        "\n",
        "seaborn.heatmap(confusion_matrix(y_test, xgbr.predict(X_test)),\n",
        "                yticklabels=['Actual Not True', 'Actual True'], xticklabels=['Predicted Not True', 'Predicted True'])"
      ],
      "execution_count": 25,
      "outputs": [
        {
          "output_type": "execute_result",
          "data": {
            "text/plain": [
              "<matplotlib.axes._subplots.AxesSubplot at 0x7f3eef4ff550>"
            ]
          },
          "metadata": {
            "tags": []
          },
          "execution_count": 25
        },
        {
          "output_type": "display_data",
          "data": {
            "image/png": "[encoded data removed]",
            "text/plain": [
              "<Figure size 432x288 with 2 Axes>"
            ]
          },
          "metadata": {
            "tags": [],
            "needs_background": "light"
          }
        }
      ]
    },
    {
      "cell_type": "code",
      "metadata": {
        "id": "C_-UrlTqcRhp"
      },
      "source": [
        ""
      ],
      "execution_count": null,
      "outputs": []
    }
  ]
}