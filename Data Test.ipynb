{
 "cells": [
  {
   "cell_type": "code",
   "execution_count": 293,
   "metadata": {},
   "outputs": [],
   "source": [
    "import csv\n",
    "import pandas as pd\n",
    "import numpy as np"
   ]
  },
  {
   "cell_type": "code",
   "execution_count": 294,
   "metadata": {},
   "outputs": [],
   "source": [
    "data = pd.read_csv('data.csv')"
   ]
  },
  {
   "cell_type": "code",
   "execution_count": 295,
   "metadata": {},
   "outputs": [
    {
     "data": {
      "text/html": [
       "<div>\n",
       "<style scoped>\n",
       "    .dataframe tbody tr th:only-of-type {\n",
       "        vertical-align: middle;\n",
       "    }\n",
       "\n",
       "    .dataframe tbody tr th {\n",
       "        vertical-align: top;\n",
       "    }\n",
       "\n",
       "    .dataframe thead th {\n",
       "        text-align: right;\n",
       "    }\n",
       "</style>\n",
       "<table border=\"1\" class=\"dataframe\">\n",
       "  <thead>\n",
       "    <tr style=\"text-align: right;\">\n",
       "      <th></th>\n",
       "      <th>raw_row_number</th>\n",
       "      <th>date</th>\n",
       "      <th>time</th>\n",
       "      <th>location</th>\n",
       "      <th>lat</th>\n",
       "      <th>lng</th>\n",
       "      <th>beat</th>\n",
       "      <th>subject_age</th>\n",
       "      <th>subject_race</th>\n",
       "      <th>subject_sex</th>\n",
       "      <th>...</th>\n",
       "      <th>contraband_weapons</th>\n",
       "      <th>search_conducted</th>\n",
       "      <th>search_basis</th>\n",
       "      <th>reason_for_stop</th>\n",
       "      <th>use_of_force_description</th>\n",
       "      <th>raw_subject_sdrace</th>\n",
       "      <th>raw_subject_resultofencounter</th>\n",
       "      <th>raw_subject_searchconducted</th>\n",
       "      <th>raw_subject_typeofsearch</th>\n",
       "      <th>raw_subject_resultofsearch</th>\n",
       "    </tr>\n",
       "  </thead>\n",
       "  <tbody>\n",
       "    <tr>\n",
       "      <th>0</th>\n",
       "      <td>17213</td>\n",
       "      <td>NaN</td>\n",
       "      <td>01:33:00</td>\n",
       "      <td>E. 28th St. &amp; Park BLVD</td>\n",
       "      <td>37.803084</td>\n",
       "      <td>-122.237247</td>\n",
       "      <td>NaN</td>\n",
       "      <td>NaN</td>\n",
       "      <td>asian/pacific islander</td>\n",
       "      <td>female</td>\n",
       "      <td>...</td>\n",
       "      <td>NaN</td>\n",
       "      <td>False</td>\n",
       "      <td>NaN</td>\n",
       "      <td>Traffic Violation</td>\n",
       "      <td>NaN</td>\n",
       "      <td>A</td>\n",
       "      <td>Citation,</td>\n",
       "      <td>No</td>\n",
       "      <td>NaN</td>\n",
       "      <td>NaN</td>\n",
       "    </tr>\n",
       "    <tr>\n",
       "      <th>1</th>\n",
       "      <td>17214</td>\n",
       "      <td>NaN</td>\n",
       "      <td>14:48:00</td>\n",
       "      <td>1759 SEMINARY AV</td>\n",
       "      <td>37.767568</td>\n",
       "      <td>-122.196820</td>\n",
       "      <td>NaN</td>\n",
       "      <td>NaN</td>\n",
       "      <td>black</td>\n",
       "      <td>male</td>\n",
       "      <td>...</td>\n",
       "      <td>False</td>\n",
       "      <td>True</td>\n",
       "      <td>other</td>\n",
       "      <td>Probation/Parole</td>\n",
       "      <td>NaN</td>\n",
       "      <td>B</td>\n",
       "      <td>FI Report,</td>\n",
       "      <td>Yes</td>\n",
       "      <td>Prob./Parole,</td>\n",
       "      <td>NaN</td>\n",
       "    </tr>\n",
       "    <tr>\n",
       "      <th>2</th>\n",
       "      <td>1</td>\n",
       "      <td>2013-04-01</td>\n",
       "      <td>00:00:00</td>\n",
       "      <td>31st St And Mlk Jr Way</td>\n",
       "      <td>37.820599</td>\n",
       "      <td>-122.270734</td>\n",
       "      <td>NaN</td>\n",
       "      <td>NaN</td>\n",
       "      <td>white</td>\n",
       "      <td>male</td>\n",
       "      <td>...</td>\n",
       "      <td>False</td>\n",
       "      <td>True</td>\n",
       "      <td>other</td>\n",
       "      <td>Traffic Violation</td>\n",
       "      <td>NaN</td>\n",
       "      <td>W</td>\n",
       "      <td>Warning,</td>\n",
       "      <td>Yes</td>\n",
       "      <td>Prob./Parole,</td>\n",
       "      <td>NaN</td>\n",
       "    </tr>\n",
       "    <tr>\n",
       "      <th>3</th>\n",
       "      <td>2</td>\n",
       "      <td>2013-04-01</td>\n",
       "      <td>00:01:00</td>\n",
       "      <td>3000 Block Of San Pablo Ave</td>\n",
       "      <td>37.821246</td>\n",
       "      <td>-122.276488</td>\n",
       "      <td>NaN</td>\n",
       "      <td>NaN</td>\n",
       "      <td>black</td>\n",
       "      <td>male</td>\n",
       "      <td>...</td>\n",
       "      <td>NaN</td>\n",
       "      <td>False</td>\n",
       "      <td>NaN</td>\n",
       "      <td>Traffic Violation</td>\n",
       "      <td>NaN</td>\n",
       "      <td>B</td>\n",
       "      <td>FI Report,</td>\n",
       "      <td>No</td>\n",
       "      <td>NaN</td>\n",
       "      <td>NaN</td>\n",
       "    </tr>\n",
       "    <tr>\n",
       "      <th>4</th>\n",
       "      <td>19</td>\n",
       "      <td>2013-04-01</td>\n",
       "      <td>10:41:00</td>\n",
       "      <td>12th St/Broadway</td>\n",
       "      <td>37.802937</td>\n",
       "      <td>-122.271738</td>\n",
       "      <td>NaN</td>\n",
       "      <td>NaN</td>\n",
       "      <td>hispanic</td>\n",
       "      <td>female</td>\n",
       "      <td>...</td>\n",
       "      <td>NaN</td>\n",
       "      <td>False</td>\n",
       "      <td>NaN</td>\n",
       "      <td>Probable Cause</td>\n",
       "      <td>NaN</td>\n",
       "      <td>H</td>\n",
       "      <td>Citation,</td>\n",
       "      <td>No</td>\n",
       "      <td>NaN</td>\n",
       "      <td>NaN</td>\n",
       "    </tr>\n",
       "  </tbody>\n",
       "</table>\n",
       "<p>5 rows × 28 columns</p>\n",
       "</div>"
      ],
      "text/plain": [
       "  raw_row_number        date      time                     location  \\\n",
       "0          17213         NaN  01:33:00      E. 28th St. & Park BLVD   \n",
       "1          17214         NaN  14:48:00             1759 SEMINARY AV   \n",
       "2              1  2013-04-01  00:00:00       31st St And Mlk Jr Way   \n",
       "3              2  2013-04-01  00:01:00  3000 Block Of San Pablo Ave   \n",
       "4             19  2013-04-01  10:41:00             12th St/Broadway   \n",
       "\n",
       "         lat         lng beat  subject_age            subject_race  \\\n",
       "0  37.803084 -122.237247  NaN          NaN  asian/pacific islander   \n",
       "1  37.767568 -122.196820  NaN          NaN                   black   \n",
       "2  37.820599 -122.270734  NaN          NaN                   white   \n",
       "3  37.821246 -122.276488  NaN          NaN                   black   \n",
       "4  37.802937 -122.271738  NaN          NaN                hispanic   \n",
       "\n",
       "  subject_sex  ... contraband_weapons search_conducted  search_basis  \\\n",
       "0      female  ...                NaN            False           NaN   \n",
       "1        male  ...              False             True         other   \n",
       "2        male  ...              False             True         other   \n",
       "3        male  ...                NaN            False           NaN   \n",
       "4      female  ...                NaN            False           NaN   \n",
       "\n",
       "     reason_for_stop  use_of_force_description raw_subject_sdrace  \\\n",
       "0  Traffic Violation                       NaN                  A   \n",
       "1   Probation/Parole                       NaN                  B   \n",
       "2  Traffic Violation                       NaN                  W   \n",
       "3  Traffic Violation                       NaN                  B   \n",
       "4     Probable Cause                       NaN                  H   \n",
       "\n",
       "  raw_subject_resultofencounter raw_subject_searchconducted  \\\n",
       "0                     Citation,                          No   \n",
       "1                    FI Report,                         Yes   \n",
       "2                      Warning,                         Yes   \n",
       "3                    FI Report,                          No   \n",
       "4                     Citation,                          No   \n",
       "\n",
       "  raw_subject_typeofsearch  raw_subject_resultofsearch  \n",
       "0                      NaN                         NaN  \n",
       "1            Prob./Parole,                         NaN  \n",
       "2            Prob./Parole,                         NaN  \n",
       "3                      NaN                         NaN  \n",
       "4                      NaN                         NaN  \n",
       "\n",
       "[5 rows x 28 columns]"
      ]
     },
     "execution_count": 295,
     "metadata": {},
     "output_type": "execute_result"
    }
   ],
   "source": [
    "data.head()"
   ]
  },
  {
   "cell_type": "code",
   "execution_count": 296,
   "metadata": {},
   "outputs": [
    {
     "data": {
      "text/plain": [
       "{'asian/pacific islander', 'black', 'hispanic', 'other', 'white'}"
      ]
     },
     "execution_count": 296,
     "metadata": {},
     "output_type": "execute_result"
    }
   ],
   "source": [
    "set(data['subject_race'])"
   ]
  },
  {
   "cell_type": "code",
   "execution_count": 297,
   "metadata": {},
   "outputs": [
    {
     "data": {
      "text/plain": [
       "Index(['raw_row_number', 'date', 'time', 'location', 'lat', 'lng', 'beat',\n",
       "       'subject_age', 'subject_race', 'subject_sex', 'officer_assignment',\n",
       "       'type', 'arrest_made', 'citation_issued', 'warning_issued', 'outcome',\n",
       "       'contraband_found', 'contraband_drugs', 'contraband_weapons',\n",
       "       'search_conducted', 'search_basis', 'reason_for_stop',\n",
       "       'use_of_force_description', 'raw_subject_sdrace',\n",
       "       'raw_subject_resultofencounter', 'raw_subject_searchconducted',\n",
       "       'raw_subject_typeofsearch', 'raw_subject_resultofsearch'],\n",
       "      dtype='object')"
      ]
     },
     "execution_count": 297,
     "metadata": {},
     "output_type": "execute_result"
    }
   ],
   "source": [
    "data.columns"
   ]
  },
  {
   "cell_type": "code",
   "execution_count": 298,
   "metadata": {},
   "outputs": [],
   "source": [
    "data['action'] = data['citation_issued'] | data['arrest_made']"
   ]
  },
  {
   "cell_type": "code",
   "execution_count": 299,
   "metadata": {
    "scrolled": true
   },
   "outputs": [
    {
     "data": {
      "text/html": [
       "<div>\n",
       "<style scoped>\n",
       "    .dataframe tbody tr th:only-of-type {\n",
       "        vertical-align: middle;\n",
       "    }\n",
       "\n",
       "    .dataframe tbody tr th {\n",
       "        vertical-align: top;\n",
       "    }\n",
       "\n",
       "    .dataframe thead th {\n",
       "        text-align: right;\n",
       "    }\n",
       "</style>\n",
       "<table border=\"1\" class=\"dataframe\">\n",
       "  <thead>\n",
       "    <tr style=\"text-align: right;\">\n",
       "      <th></th>\n",
       "      <th>subject_race</th>\n",
       "      <th>citation_issued</th>\n",
       "      <th>arrest_made</th>\n",
       "      <th>action</th>\n",
       "    </tr>\n",
       "  </thead>\n",
       "  <tbody>\n",
       "    <tr>\n",
       "      <th>0</th>\n",
       "      <td>asian/pacific islander</td>\n",
       "      <td>True</td>\n",
       "      <td>False</td>\n",
       "      <td>True</td>\n",
       "    </tr>\n",
       "    <tr>\n",
       "      <th>1</th>\n",
       "      <td>black</td>\n",
       "      <td>False</td>\n",
       "      <td>False</td>\n",
       "      <td>False</td>\n",
       "    </tr>\n",
       "    <tr>\n",
       "      <th>2</th>\n",
       "      <td>white</td>\n",
       "      <td>False</td>\n",
       "      <td>False</td>\n",
       "      <td>False</td>\n",
       "    </tr>\n",
       "    <tr>\n",
       "      <th>3</th>\n",
       "      <td>black</td>\n",
       "      <td>False</td>\n",
       "      <td>False</td>\n",
       "      <td>False</td>\n",
       "    </tr>\n",
       "    <tr>\n",
       "      <th>4</th>\n",
       "      <td>hispanic</td>\n",
       "      <td>True</td>\n",
       "      <td>False</td>\n",
       "      <td>True</td>\n",
       "    </tr>\n",
       "  </tbody>\n",
       "</table>\n",
       "</div>"
      ],
      "text/plain": [
       "             subject_race  citation_issued  arrest_made  action\n",
       "0  asian/pacific islander             True        False    True\n",
       "1                   black            False        False   False\n",
       "2                   white            False        False   False\n",
       "3                   black            False        False   False\n",
       "4                hispanic             True        False    True"
      ]
     },
     "execution_count": 299,
     "metadata": {},
     "output_type": "execute_result"
    }
   ],
   "source": [
    "data[['subject_race', 'citation_issued', 'arrest_made', 'action']].head()"
   ]
  },
  {
   "cell_type": "code",
   "execution_count": 300,
   "metadata": {
    "scrolled": true
   },
   "outputs": [],
   "source": [
    "inputs = ['subject_race', 'subject_sex', 'lat', 'lng', 'subject_age', 'reason_for_stop']\n",
    "label = ['action', 'arrest_made']"
   ]
  },
  {
   "cell_type": "code",
   "execution_count": 301,
   "metadata": {},
   "outputs": [
    {
     "data": {
      "text/plain": [
       "29.0"
      ]
     },
     "execution_count": 301,
     "metadata": {},
     "output_type": "execute_result"
    }
   ],
   "source": [
    "data['subject_age'].median()"
   ]
  },
  {
   "cell_type": "code",
   "execution_count": 302,
   "metadata": {},
   "outputs": [],
   "source": [
    "data['subject_age'] = data['subject_age'].fillna(data['subject_age'].median())\n",
    "old_data = data.copy()\n",
    "data = data[inputs + label].dropna(axis=0)"
   ]
  },
  {
   "cell_type": "code",
   "execution_count": 303,
   "metadata": {},
   "outputs": [],
   "source": [
    "#set(data['reason_for_stop'])"
   ]
  },
  {
   "cell_type": "code",
   "execution_count": 304,
   "metadata": {},
   "outputs": [],
   "source": [
    "races = list(set(data['subject_race']))\n",
    "sexes = list(set(data['subject_sex']))\n",
    "reasons = list(set(data['reason_for_stop']))"
   ]
  },
  {
   "cell_type": "code",
   "execution_count": 305,
   "metadata": {},
   "outputs": [],
   "source": [
    "data['clean_lng'] = data['lng'] - data['lng'].mean() \n",
    "data['clean_lat'] = data['lat'] - data['lat'].mean()\n",
    "data['clean_age'] = data['subject_age'] - data['subject_age'].mean()"
   ]
  },
  {
   "cell_type": "code",
   "execution_count": 306,
   "metadata": {
    "scrolled": true
   },
   "outputs": [],
   "source": [
    "data['race'] = data.apply(lambda row: races.index(row['subject_race']), axis=1)\n",
    "data['sex']= data.apply(lambda row: sexes.index(row['subject_sex']), axis=1)\n",
    "data['reason']= data.apply(lambda row: reasons.index(row['reason_for_stop']), axis=1)"
   ]
  },
  {
   "cell_type": "code",
   "execution_count": 499,
   "metadata": {},
   "outputs": [],
   "source": [
    "inputs = ['race', 'sex', 'clean_lat', 'clean_lng', 'clean_age', 'reason_for_stop']\n",
    "#inputs = ['race', 'sex', 'clean_age']\n",
    "label = ['action']"
   ]
  },
  {
   "cell_type": "code",
   "execution_count": 500,
   "metadata": {},
   "outputs": [
    {
     "data": {
      "text/plain": [
       "['Other-Consensual',\n",
       " 'Traffic Violation',\n",
       " 'Probable Cause',\n",
       " 'Consensual Encounter',\n",
       " 'Reasonable Suspicion',\n",
       " 'Probation/Parole']"
      ]
     },
     "execution_count": 500,
     "metadata": {},
     "output_type": "execute_result"
    }
   ],
   "source": [
    "reasons = list(set(sum([x.replace(',', '').split('|') for x in reasons], [])))\n",
    "reasons"
   ]
  },
  {
   "cell_type": "markdown",
   "metadata": {},
   "source": [
    "## Load Data"
   ]
  },
  {
   "cell_type": "code",
   "execution_count": 501,
   "metadata": {},
   "outputs": [],
   "source": [
    "import torch"
   ]
  },
  {
   "cell_type": "code",
   "execution_count": 502,
   "metadata": {},
   "outputs": [],
   "source": [
    "inputs_npy = data[inputs].to_numpy()\n",
    "labels_npy = data[label].to_numpy().astype('int')\n"
   ]
  },
  {
   "cell_type": "code",
   "execution_count": 503,
   "metadata": {},
   "outputs": [],
   "source": [
    "new_inputs_npy = []\n",
    "for inp in inputs_npy:\n",
    "    race = inp[0]\n",
    "    race_oh = np.zeros(5)\n",
    "    race_oh[race] = 1\n",
    "    middle = inp[1:-1]\n",
    "    reason = np.zeros(6)\n",
    "    for r in inp[-1].replace(',', '').split(\"|\"):\n",
    "        reason[reasons.index(r)] = 1\n",
    "    new_inputs_npy.append(np.concatenate((race_oh, middle, reason)))\n",
    "    "
   ]
  },
  {
   "cell_type": "code",
   "execution_count": 504,
   "metadata": {},
   "outputs": [
    {
     "data": {
      "text/plain": [
       "array([ 0.        ,  0.        ,  0.        ,  0.        ,  1.        ,\n",
       "        1.        ,  0.01568815, -0.00902605, -0.96774095,  0.        ,\n",
       "        1.        ,  0.        ,  0.        ,  0.        ,  0.        ],\n",
       "      dtype=float32)"
      ]
     },
     "execution_count": 504,
     "metadata": {},
     "output_type": "execute_result"
    }
   ],
   "source": [
    "new_inputs_npy = np.array(new_inputs_npy).astype(np.float32)\n",
    "new_inputs_npy[0]"
   ]
  },
  {
   "cell_type": "code",
   "execution_count": 505,
   "metadata": {},
   "outputs": [],
   "source": [
    "data_npy = np.array(list(zip(new_inputs_npy, labels_npy)))"
   ]
  },
  {
   "cell_type": "code",
   "execution_count": 506,
   "metadata": {},
   "outputs": [],
   "source": [
    "inds = np.arange(len(data))\n",
    "np.random.shuffle(inds)\n",
    "train_inds = inds[:int(len(data)*0.8)]\n",
    "test_inds = inds[int(len(data)*0.8):]\n",
    "train_data = [list(x) for x in data_npy[train_inds]][:50000]\n",
    "test_data = [list(x) for x in data_npy[test_inds]]"
   ]
  },
  {
   "cell_type": "code",
   "execution_count": 507,
   "metadata": {},
   "outputs": [],
   "source": [
    "train_loader = torch.utils.data.DataLoader(train_data, batch_size=128)\n",
    "test_loader = torch.utils.data.DataLoader(test_data, batch_size=128)"
   ]
  },
  {
   "cell_type": "code",
   "execution_count": 508,
   "metadata": {},
   "outputs": [],
   "source": [
    "#train_data"
   ]
  },
  {
   "cell_type": "markdown",
   "metadata": {},
   "source": [
    "## Models"
   ]
  },
  {
   "cell_type": "code",
   "execution_count": 509,
   "metadata": {},
   "outputs": [],
   "source": [
    "import torch\n",
    "import torch.nn.functional as F"
   ]
  },
  {
   "cell_type": "code",
   "execution_count": 589,
   "metadata": {},
   "outputs": [],
   "source": [
    "inp_size=15\n",
    "mlp_model = torch.nn.Sequential(torch.nn.Linear(inp_size, 128),\n",
    "                                  torch.nn.ReLU(),\n",
    "                                  torch.nn.Linear(128, 128),\n",
    "                                  torch.nn.ReLU(),\n",
    "                                  torch.nn.Linear(128, 1),\n",
    "                                  torch.nn.Sigmoid())\n",
    "mlp_optim = torch.optim.Adam(mlp_model.parameters(), lr=5e-4)"
   ]
  },
  {
   "cell_type": "code",
   "execution_count": 610,
   "metadata": {},
   "outputs": [],
   "source": [
    "mlp_optim = torch.optim.Adam(mlp_model.parameters(), lr=1e-4)"
   ]
  },
  {
   "cell_type": "markdown",
   "metadata": {},
   "source": [
    "## Training"
   ]
  },
  {
   "cell_type": "code",
   "execution_count": 590,
   "metadata": {},
   "outputs": [],
   "source": [
    "def train_model(model, optim, train_loader, test_loader, activation='sigmoid', n_epochs=20):\n",
    "    train_losses = []\n",
    "    val_losses = []\n",
    "    for epoch in range(n_epochs):\n",
    "        epoch_losses = []\n",
    "        for x, y in train_loader:\n",
    "            #print(x)\n",
    "            y_prime = model(x.float())\n",
    "           # print(y_prime.max(), y_prime.min())\n",
    "            #y_prime = F.sigmoid(y_prime)\n",
    "            #print(y_prime.max(), y_prime.min())\n",
    "            loss = F.binary_cross_entropy(y_prime, y.float())\n",
    "            #print(\"LOSS\", loss)\n",
    "            optim.zero_grad()\n",
    "            loss.backward()\n",
    "            optim.step()\n",
    "            epoch_losses.append(loss.item())\n",
    "        train_losses.append(np.mean(epoch_losses))\n",
    "        val_losses.append(evaluate_model(model, test_loader))\n",
    "        print(\"EPOCH {}: Train Loss: {}, Val Loss: {}\".format(epoch, train_losses[-1], val_losses[-1]))    \n",
    "    return train_losses, val_losses"
   ]
  },
  {
   "cell_type": "code",
   "execution_count": 591,
   "metadata": {},
   "outputs": [],
   "source": [
    "def evaluate_model(model, test_loader):\n",
    "    with torch.no_grad():\n",
    "        losses = []\n",
    "        for x, y in test_loader:\n",
    "            y_prime = model(x.float())\n",
    "            loss = F.binary_cross_entropy(y_prime, y.float())\n",
    "            losses.append(loss.item())\n",
    "    return np.mean(losses)\n",
    "        "
   ]
  },
  {
   "cell_type": "code",
   "execution_count": 611,
   "metadata": {},
   "outputs": [
    {
     "name": "stdout",
     "output_type": "stream",
     "text": [
      "EPOCH 0: Train Loss: 0.6556823331376781, Val Loss: 0.6609923919422205\n",
      "EPOCH 1: Train Loss: 0.6553857890541291, Val Loss: 0.6609695539520117\n",
      "EPOCH 2: Train Loss: 0.6553088675069687, Val Loss: 0.660965267836192\n",
      "EPOCH 3: Train Loss: 0.6552602750870883, Val Loss: 0.6609624247801932\n",
      "EPOCH 4: Train Loss: 0.6552179626491673, Val Loss: 0.6609678425286946\n",
      "EPOCH 5: Train Loss: 0.6551785037645599, Val Loss: 0.6609657438177812\n",
      "EPOCH 6: Train Loss: 0.6551415873000689, Val Loss: 0.6609774297504334\n",
      "EPOCH 7: Train Loss: 0.6551075318585271, Val Loss: 0.6609695779079455\n",
      "EPOCH 8: Train Loss: 0.6550749505267424, Val Loss: 0.6609743576871151\n",
      "EPOCH 9: Train Loss: 0.6550427179812165, Val Loss: 0.6609815447524404\n",
      "EPOCH 10: Train Loss: 0.6550120003997822, Val Loss: 0.6609867468975378\n",
      "EPOCH 11: Train Loss: 0.6549833552611758, Val Loss: 0.6609925630560332\n",
      "EPOCH 12: Train Loss: 0.6549554868122501, Val Loss: 0.6609938575320267\n",
      "EPOCH 13: Train Loss: 0.6549290718934725, Val Loss: 0.6610112227321241\n",
      "EPOCH 14: Train Loss: 0.6549050504594203, Val Loss: 0.6610186105709898\n",
      "EPOCH 15: Train Loss: 0.6548778356798469, Val Loss: 0.6610237998825511\n",
      "EPOCH 16: Train Loss: 0.6548520469909433, Val Loss: 0.6610210212794217\n",
      "EPOCH 17: Train Loss: 0.6548244468391399, Val Loss: 0.661035981474881\n",
      "EPOCH 18: Train Loss: 0.654800713519611, Val Loss: 0.6610443654813265\n",
      "EPOCH 19: Train Loss: 0.6547742232947094, Val Loss: 0.6610442300162247\n"
     ]
    }
   ],
   "source": [
    "t_loss, v_loss = train_model(mlp_model, mlp_optim, train_loader, test_loader, n_epochs=20)"
   ]
  },
  {
   "cell_type": "code",
   "execution_count": 612,
   "metadata": {},
   "outputs": [
    {
     "data": {
      "text/plain": [
       "tensor([0.4027], grad_fn=<SigmoidBackward>)"
      ]
     },
     "execution_count": 612,
     "metadata": {},
     "output_type": "execute_result"
    }
   ],
   "source": [
    "mlp_model(torch.tensor([0., 1, 0, 0., 0, 0., 0., 0., 0., 0, 0, 0, 0, 0, 0]))"
   ]
  },
  {
   "cell_type": "code",
   "execution_count": 613,
   "metadata": {},
   "outputs": [],
   "source": [
    "def get_accuracy(inp, labels, model, threshold=0.5):\n",
    "    with torch.no_grad():\n",
    "        inp, labels = torch.from_numpy(inp), torch.from_numpy(labels)\n",
    "        guess = model(inp.float())\n",
    "        preds = (guess > threshold).numpy().astype(int)\n",
    "        return preds"
   ]
  },
  {
   "cell_type": "code",
   "execution_count": 614,
   "metadata": {},
   "outputs": [],
   "source": [
    "inp = np.array([list(x) for x in np.array(test_data)[:, 0]])\n",
    "labels = np.array([list(x) for x in np.array(test_data)[:, 1]])"
   ]
  },
  {
   "cell_type": "code",
   "execution_count": 615,
   "metadata": {},
   "outputs": [],
   "source": [
    "a = get_accuracy(inp, labels, mlp_model, threshold=0.5)"
   ]
  },
  {
   "cell_type": "code",
   "execution_count": 605,
   "metadata": {
    "scrolled": true
   },
   "outputs": [
    {
     "data": {
      "text/plain": [
       "0.5967869073983709"
      ]
     },
     "execution_count": 605,
     "metadata": {},
     "output_type": "execute_result"
    }
   ],
   "source": [
    "sum(a == labels)[0] / len(labels)"
   ]
  },
  {
   "cell_type": "code",
   "execution_count": 616,
   "metadata": {},
   "outputs": [
    {
     "data": {
      "text/plain": [
       "0.5956608235426598"
      ]
     },
     "execution_count": 616,
     "metadata": {},
     "output_type": "execute_result"
    }
   ],
   "source": [
    "sum(a == labels)[0] / len(labels)"
   ]
  },
  {
   "cell_type": "code",
   "execution_count": 608,
   "metadata": {},
   "outputs": [
    {
     "data": {
      "text/plain": [
       "array([0.62126046])"
      ]
     },
     "execution_count": 608,
     "metadata": {},
     "output_type": "execute_result"
    }
   ],
   "source": [
    "sum(a) / len(a)"
   ]
  },
  {
   "cell_type": "code",
   "execution_count": 497,
   "metadata": {},
   "outputs": [
    {
     "data": {
      "text/plain": [
       "array([809])"
      ]
     },
     "execution_count": 497,
     "metadata": {},
     "output_type": "execute_result"
    }
   ],
   "source": [
    "sum(a)"
   ]
  },
  {
   "cell_type": "code",
   "execution_count": null,
   "metadata": {},
   "outputs": [],
   "source": []
  }
 ],
 "metadata": {
  "kernelspec": {
   "display_name": "Python 3",
   "language": "python",
   "name": "python3"
  },
  "language_info": {
   "codemirror_mode": {
    "name": "ipython",
    "version": 3
   },
   "file_extension": ".py",
   "mimetype": "text/x-python",
   "name": "python",
   "nbconvert_exporter": "python",
   "pygments_lexer": "ipython3",
   "version": "3.6.1"
  }
 },
 "nbformat": 4,
 "nbformat_minor": 2
}
