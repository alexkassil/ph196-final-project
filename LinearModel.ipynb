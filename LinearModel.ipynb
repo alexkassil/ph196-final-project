{
 "cells": [
  {
   "cell_type": "code",
   "execution_count": 20,
   "metadata": {},
   "outputs": [],
   "source": [
    "import csv\n",
    "import pandas as pd\n",
    "import numpy as np"
   ]
  },
  {
   "cell_type": "code",
   "execution_count": 21,
   "metadata": {},
   "outputs": [
    {
     "name": "stderr",
     "output_type": "stream",
     "text": [
      "/home/alex/.local/lib/python3.5/site-packages/IPython/core/interactiveshell.py:3049: DtypeWarning: Columns (6,10,22,27) have mixed types. Specify dtype option on import or set low_memory=False.\n",
      "  interactivity=interactivity, compiler=compiler, result=result)\n"
     ]
    }
   ],
   "source": [
    "data = pd.read_csv('data.csv')"
   ]
  },
  {
   "cell_type": "code",
   "execution_count": 22,
   "metadata": {},
   "outputs": [
    {
     "data": {
      "text/html": [
       "<div>\n",
       "<style scoped>\n",
       "    .dataframe tbody tr th:only-of-type {\n",
       "        vertical-align: middle;\n",
       "    }\n",
       "\n",
       "    .dataframe tbody tr th {\n",
       "        vertical-align: top;\n",
       "    }\n",
       "\n",
       "    .dataframe thead th {\n",
       "        text-align: right;\n",
       "    }\n",
       "</style>\n",
       "<table border=\"1\" class=\"dataframe\">\n",
       "  <thead>\n",
       "    <tr style=\"text-align: right;\">\n",
       "      <th></th>\n",
       "      <th>raw_row_number</th>\n",
       "      <th>date</th>\n",
       "      <th>time</th>\n",
       "      <th>location</th>\n",
       "      <th>lat</th>\n",
       "      <th>lng</th>\n",
       "      <th>beat</th>\n",
       "      <th>subject_age</th>\n",
       "      <th>subject_race</th>\n",
       "      <th>subject_sex</th>\n",
       "      <th>...</th>\n",
       "      <th>contraband_weapons</th>\n",
       "      <th>search_conducted</th>\n",
       "      <th>search_basis</th>\n",
       "      <th>reason_for_stop</th>\n",
       "      <th>use_of_force_description</th>\n",
       "      <th>raw_subject_sdrace</th>\n",
       "      <th>raw_subject_resultofencounter</th>\n",
       "      <th>raw_subject_searchconducted</th>\n",
       "      <th>raw_subject_typeofsearch</th>\n",
       "      <th>raw_subject_resultofsearch</th>\n",
       "    </tr>\n",
       "  </thead>\n",
       "  <tbody>\n",
       "    <tr>\n",
       "      <th>0</th>\n",
       "      <td>17213</td>\n",
       "      <td>NaN</td>\n",
       "      <td>01:33:00</td>\n",
       "      <td>E. 28th St. &amp; Park BLVD</td>\n",
       "      <td>37.803084</td>\n",
       "      <td>-122.237247</td>\n",
       "      <td>NaN</td>\n",
       "      <td>NaN</td>\n",
       "      <td>asian/pacific islander</td>\n",
       "      <td>female</td>\n",
       "      <td>...</td>\n",
       "      <td>NaN</td>\n",
       "      <td>False</td>\n",
       "      <td>NaN</td>\n",
       "      <td>Traffic Violation</td>\n",
       "      <td>NaN</td>\n",
       "      <td>A</td>\n",
       "      <td>Citation,</td>\n",
       "      <td>No</td>\n",
       "      <td>NaN</td>\n",
       "      <td>NaN</td>\n",
       "    </tr>\n",
       "    <tr>\n",
       "      <th>1</th>\n",
       "      <td>17214</td>\n",
       "      <td>NaN</td>\n",
       "      <td>14:48:00</td>\n",
       "      <td>1759 SEMINARY AV</td>\n",
       "      <td>37.767568</td>\n",
       "      <td>-122.196820</td>\n",
       "      <td>NaN</td>\n",
       "      <td>NaN</td>\n",
       "      <td>black</td>\n",
       "      <td>male</td>\n",
       "      <td>...</td>\n",
       "      <td>False</td>\n",
       "      <td>True</td>\n",
       "      <td>other</td>\n",
       "      <td>Probation/Parole</td>\n",
       "      <td>NaN</td>\n",
       "      <td>B</td>\n",
       "      <td>FI Report,</td>\n",
       "      <td>Yes</td>\n",
       "      <td>Prob./Parole,</td>\n",
       "      <td>NaN</td>\n",
       "    </tr>\n",
       "    <tr>\n",
       "      <th>2</th>\n",
       "      <td>1</td>\n",
       "      <td>2013-04-01</td>\n",
       "      <td>00:00:00</td>\n",
       "      <td>31st St And Mlk Jr Way</td>\n",
       "      <td>37.820599</td>\n",
       "      <td>-122.270734</td>\n",
       "      <td>NaN</td>\n",
       "      <td>NaN</td>\n",
       "      <td>white</td>\n",
       "      <td>male</td>\n",
       "      <td>...</td>\n",
       "      <td>False</td>\n",
       "      <td>True</td>\n",
       "      <td>other</td>\n",
       "      <td>Traffic Violation</td>\n",
       "      <td>NaN</td>\n",
       "      <td>W</td>\n",
       "      <td>Warning,</td>\n",
       "      <td>Yes</td>\n",
       "      <td>Prob./Parole,</td>\n",
       "      <td>NaN</td>\n",
       "    </tr>\n",
       "    <tr>\n",
       "      <th>3</th>\n",
       "      <td>2</td>\n",
       "      <td>2013-04-01</td>\n",
       "      <td>00:01:00</td>\n",
       "      <td>3000 Block Of San Pablo Ave</td>\n",
       "      <td>37.821246</td>\n",
       "      <td>-122.276488</td>\n",
       "      <td>NaN</td>\n",
       "      <td>NaN</td>\n",
       "      <td>black</td>\n",
       "      <td>male</td>\n",
       "      <td>...</td>\n",
       "      <td>NaN</td>\n",
       "      <td>False</td>\n",
       "      <td>NaN</td>\n",
       "      <td>Traffic Violation</td>\n",
       "      <td>NaN</td>\n",
       "      <td>B</td>\n",
       "      <td>FI Report,</td>\n",
       "      <td>No</td>\n",
       "      <td>NaN</td>\n",
       "      <td>NaN</td>\n",
       "    </tr>\n",
       "    <tr>\n",
       "      <th>4</th>\n",
       "      <td>19</td>\n",
       "      <td>2013-04-01</td>\n",
       "      <td>10:41:00</td>\n",
       "      <td>12th St/Broadway</td>\n",
       "      <td>37.802937</td>\n",
       "      <td>-122.271738</td>\n",
       "      <td>NaN</td>\n",
       "      <td>NaN</td>\n",
       "      <td>hispanic</td>\n",
       "      <td>female</td>\n",
       "      <td>...</td>\n",
       "      <td>NaN</td>\n",
       "      <td>False</td>\n",
       "      <td>NaN</td>\n",
       "      <td>Probable Cause</td>\n",
       "      <td>NaN</td>\n",
       "      <td>H</td>\n",
       "      <td>Citation,</td>\n",
       "      <td>No</td>\n",
       "      <td>NaN</td>\n",
       "      <td>NaN</td>\n",
       "    </tr>\n",
       "  </tbody>\n",
       "</table>\n",
       "<p>5 rows × 28 columns</p>\n",
       "</div>"
      ],
      "text/plain": [
       "  raw_row_number        date      time                     location  \\\n",
       "0          17213         NaN  01:33:00      E. 28th St. & Park BLVD   \n",
       "1          17214         NaN  14:48:00             1759 SEMINARY AV   \n",
       "2              1  2013-04-01  00:00:00       31st St And Mlk Jr Way   \n",
       "3              2  2013-04-01  00:01:00  3000 Block Of San Pablo Ave   \n",
       "4             19  2013-04-01  10:41:00             12th St/Broadway   \n",
       "\n",
       "         lat         lng beat  subject_age            subject_race  \\\n",
       "0  37.803084 -122.237247  NaN          NaN  asian/pacific islander   \n",
       "1  37.767568 -122.196820  NaN          NaN                   black   \n",
       "2  37.820599 -122.270734  NaN          NaN                   white   \n",
       "3  37.821246 -122.276488  NaN          NaN                   black   \n",
       "4  37.802937 -122.271738  NaN          NaN                hispanic   \n",
       "\n",
       "  subject_sex  ... contraband_weapons search_conducted  search_basis  \\\n",
       "0      female  ...                NaN            False           NaN   \n",
       "1        male  ...              False             True         other   \n",
       "2        male  ...              False             True         other   \n",
       "3        male  ...                NaN            False           NaN   \n",
       "4      female  ...                NaN            False           NaN   \n",
       "\n",
       "     reason_for_stop  use_of_force_description raw_subject_sdrace  \\\n",
       "0  Traffic Violation                       NaN                  A   \n",
       "1   Probation/Parole                       NaN                  B   \n",
       "2  Traffic Violation                       NaN                  W   \n",
       "3  Traffic Violation                       NaN                  B   \n",
       "4     Probable Cause                       NaN                  H   \n",
       "\n",
       "  raw_subject_resultofencounter raw_subject_searchconducted  \\\n",
       "0                     Citation,                          No   \n",
       "1                    FI Report,                         Yes   \n",
       "2                      Warning,                         Yes   \n",
       "3                    FI Report,                          No   \n",
       "4                     Citation,                          No   \n",
       "\n",
       "  raw_subject_typeofsearch  raw_subject_resultofsearch  \n",
       "0                      NaN                         NaN  \n",
       "1            Prob./Parole,                         NaN  \n",
       "2            Prob./Parole,                         NaN  \n",
       "3                      NaN                         NaN  \n",
       "4                      NaN                         NaN  \n",
       "\n",
       "[5 rows x 28 columns]"
      ]
     },
     "execution_count": 22,
     "metadata": {},
     "output_type": "execute_result"
    }
   ],
   "source": [
    "data.head()"
   ]
  },
  {
   "cell_type": "code",
   "execution_count": 23,
   "metadata": {},
   "outputs": [
    {
     "data": {
      "text/plain": [
       "{'asian/pacific islander', 'black', 'hispanic', 'other', 'white'}"
      ]
     },
     "execution_count": 23,
     "metadata": {},
     "output_type": "execute_result"
    }
   ],
   "source": [
    "set(data['subject_race'])"
   ]
  },
  {
   "cell_type": "code",
   "execution_count": 24,
   "metadata": {},
   "outputs": [
    {
     "data": {
      "text/plain": [
       "Index(['raw_row_number', 'date', 'time', 'location', 'lat', 'lng', 'beat',\n",
       "       'subject_age', 'subject_race', 'subject_sex', 'officer_assignment',\n",
       "       'type', 'arrest_made', 'citation_issued', 'warning_issued', 'outcome',\n",
       "       'contraband_found', 'contraband_drugs', 'contraband_weapons',\n",
       "       'search_conducted', 'search_basis', 'reason_for_stop',\n",
       "       'use_of_force_description', 'raw_subject_sdrace',\n",
       "       'raw_subject_resultofencounter', 'raw_subject_searchconducted',\n",
       "       'raw_subject_typeofsearch', 'raw_subject_resultofsearch'],\n",
       "      dtype='object')"
      ]
     },
     "execution_count": 24,
     "metadata": {},
     "output_type": "execute_result"
    }
   ],
   "source": [
    "data.columns"
   ]
  },
  {
   "cell_type": "code",
   "execution_count": 25,
   "metadata": {},
   "outputs": [],
   "source": [
    "data['action'] = data['citation_issued'] | data['arrest_made']"
   ]
  },
  {
   "cell_type": "code",
   "execution_count": 26,
   "metadata": {
    "scrolled": true
   },
   "outputs": [],
   "source": [
    "inputs = ['subject_race', 'subject_sex', 'lat', 'lng', 'subject_age', 'reason_for_stop']\n",
    "label = ['action']"
   ]
  },
  {
   "cell_type": "code",
   "execution_count": 27,
   "metadata": {},
   "outputs": [
    {
     "data": {
      "text/plain": [
       "29.0"
      ]
     },
     "execution_count": 27,
     "metadata": {},
     "output_type": "execute_result"
    }
   ],
   "source": [
    "data['subject_age'].median()"
   ]
  },
  {
   "cell_type": "code",
   "execution_count": 28,
   "metadata": {},
   "outputs": [],
   "source": [
    "data['subject_age'] = data['subject_age'].fillna(data['subject_age'].median())"
   ]
  },
  {
   "cell_type": "code",
   "execution_count": 29,
   "metadata": {},
   "outputs": [
    {
     "data": {
      "text/plain": [
       "{'Consensual Encounter',\n",
       " 'Consensual Encounter|Consensual Encounter|Consensual Encounter|Traffic Violation',\n",
       " 'Consensual Encounter|Consensual Encounter|Probable Cause',\n",
       " 'Consensual Encounter|Consensual Encounter|Probable Cause|Reasonable Suspicion',\n",
       " 'Consensual Encounter|Consensual Encounter|Reasonable Suspicion|Reasonable Suspicion',\n",
       " 'Consensual Encounter|Consensual Encounter|Traffic Violation',\n",
       " 'Consensual Encounter|Probable Cause',\n",
       " 'Consensual Encounter|Probable Cause|Consensual Encounter',\n",
       " 'Consensual Encounter|Probable Cause|Consensual Encounter|Probable Cause',\n",
       " 'Consensual Encounter|Probable Cause|Probable Cause|Probable Cause|Probable Cause',\n",
       " 'Consensual Encounter|Probable Cause|Probation/Parole',\n",
       " 'Consensual Encounter|Probation/Parole',\n",
       " 'Consensual Encounter|Reasonable Suspicion',\n",
       " 'Consensual Encounter|Reasonable Suspicion|Reasonable Suspicion',\n",
       " 'Consensual Encounter|Traffic Violation',\n",
       " 'Consensual Encounter|Traffic Violation|Traffic Violation',\n",
       " 'Other-Consensual,',\n",
       " 'Probable Cause',\n",
       " 'Probable Cause,',\n",
       " 'Probable Cause|Consensual Encounter',\n",
       " 'Probable Cause|Consensual Encounter|Consensual Encounter',\n",
       " 'Probable Cause|Probable Cause,',\n",
       " 'Probable Cause|Probable Cause|Consensual Encounter',\n",
       " 'Probable Cause|Probable Cause|Consensual Encounter|Consensual Encounter',\n",
       " 'Probable Cause|Probable Cause|Probable Cause|Probable Cause|Probable Cause|Probation/Parole|Probable Cause',\n",
       " 'Probable Cause|Probable Cause|Probable Cause|Probable Cause|Probable Cause|Reasonable Suspicion|Reasonable Suspicion|Reasonable Suspicion|Probable Cause|Probable Cause|Probable Cause|Probable Cause',\n",
       " 'Probable Cause|Probable Cause|Probable Cause|Reasonable Suspicion',\n",
       " 'Probable Cause|Probable Cause|Reasonable Suspicion',\n",
       " 'Probable Cause|Probable Cause|Reasonable Suspicion|Reasonable Suspicion|Reasonable Suspicion|Reasonable Suspicion|Probable Cause',\n",
       " 'Probable Cause|Probable Cause|Traffic Violation',\n",
       " 'Probable Cause|Probation/Parole',\n",
       " 'Probable Cause|Probation/Parole|Consensual Encounter',\n",
       " 'Probable Cause|Probation/Parole|Probable Cause',\n",
       " 'Probable Cause|Probation/Parole|Probable Cause|Probable Cause',\n",
       " 'Probable Cause|Probation/Parole|Probable Cause|Probation/Parole|Probable Cause',\n",
       " 'Probable Cause|Probation/Parole|Probation/Parole',\n",
       " 'Probable Cause|Probation/Parole|Probation/Parole|Traffic Violation|Probation/Parole',\n",
       " 'Probable Cause|Reasonable Suspicion',\n",
       " 'Probable Cause|Reasonable Suspicion|Probable Cause',\n",
       " 'Probable Cause|Reasonable Suspicion|Probable Cause|Probable Cause|Probable Cause|Probable Cause|Probable Cause',\n",
       " 'Probable Cause|Reasonable Suspicion|Reasonable Suspicion',\n",
       " 'Probable Cause|Traffic Violation',\n",
       " 'Probable Cause|Traffic Violation|Probable Cause',\n",
       " 'Probable Cause|Traffic Violation|Reasonable Suspicion',\n",
       " 'Probable Cause|Traffic Violation|Traffic Violation',\n",
       " 'Probable Cause|Traffic Violation|Traffic Violation|Traffic Violation',\n",
       " 'Probation/Parole',\n",
       " 'Probation/Parole|Consensual Encounter',\n",
       " 'Probation/Parole|Consensual Encounter|Consensual Encounter',\n",
       " 'Probation/Parole|Consensual Encounter|Probation/Parole|Consensual Encounter',\n",
       " 'Probation/Parole|Probable Cause',\n",
       " 'Probation/Parole|Probable Cause|Consensual Encounter|Reasonable Suspicion',\n",
       " 'Probation/Parole|Probable Cause|Probable Cause',\n",
       " 'Probation/Parole|Probable Cause|Probable Cause|Probable Cause',\n",
       " 'Probation/Parole|Probable Cause|Probation/Parole',\n",
       " 'Probation/Parole|Probable Cause|Traffic Violation',\n",
       " 'Probation/Parole|Probation/Parole|Probable Cause|Probable Cause',\n",
       " 'Probation/Parole|Probation/Parole|Probation/Parole|Probable Cause',\n",
       " 'Probation/Parole|Probation/Parole|Reasonable Suspicion',\n",
       " 'Probation/Parole|Probation/Parole|Reasonable Suspicion|Reasonable Suspicion',\n",
       " 'Probation/Parole|Probation/Parole|Traffic Violation',\n",
       " 'Probation/Parole|Reasonable Suspicion',\n",
       " 'Probation/Parole|Reasonable Suspicion|Reasonable Suspicion',\n",
       " 'Probation/Parole|Reasonable Suspicion|Reasonable Suspicion|Probation/Parole',\n",
       " 'Probation/Parole|Reasonable Suspicion|Reasonable Suspicion|Reasonable Suspicion|Reasonable Suspicion',\n",
       " 'Probation/Parole|Traffic Violation',\n",
       " 'Probation/Parole|Traffic Violation|Traffic Violation',\n",
       " 'Reasonable Suspicion',\n",
       " 'Reasonable Suspicion|Consensual Encounter',\n",
       " 'Reasonable Suspicion|Consensual Encounter|Probable Cause',\n",
       " 'Reasonable Suspicion|Probable Cause',\n",
       " 'Reasonable Suspicion|Probable Cause|Probable Cause',\n",
       " 'Reasonable Suspicion|Probable Cause|Probable Cause|Probable Cause',\n",
       " 'Reasonable Suspicion|Probable Cause|Probation/Parole',\n",
       " 'Reasonable Suspicion|Probable Cause|Reasonable Suspicion',\n",
       " 'Reasonable Suspicion|Probable Cause|Reasonable Suspicion|Reasonable Suspicion|Probable Cause',\n",
       " 'Reasonable Suspicion|Probable Cause|Traffic Violation|Probable Cause|Reasonable Suspicion|Reasonable Suspicion|Traffic Violation',\n",
       " 'Reasonable Suspicion|Probation/Parole',\n",
       " 'Reasonable Suspicion|Probation/Parole|Probable Cause',\n",
       " 'Reasonable Suspicion|Probation/Parole|Reasonable Suspicion',\n",
       " 'Reasonable Suspicion|Reasonable Suspicion|Consensual Encounter',\n",
       " 'Reasonable Suspicion|Reasonable Suspicion|Probable Cause',\n",
       " 'Reasonable Suspicion|Reasonable Suspicion|Probable Cause|Reasonable Suspicion',\n",
       " 'Reasonable Suspicion|Reasonable Suspicion|Probation/Parole',\n",
       " 'Reasonable Suspicion|Reasonable Suspicion|Reasonable Suspicion|Probable Cause',\n",
       " 'Reasonable Suspicion|Reasonable Suspicion|Traffic Violation',\n",
       " 'Reasonable Suspicion|Reasonable Suspicion|Traffic Violation|Reasonable Suspicion',\n",
       " 'Reasonable Suspicion|Traffic Violation',\n",
       " 'Reasonable Suspicion|Traffic Violation|Traffic Violation',\n",
       " 'Traffic Violation',\n",
       " 'Traffic Violation|Consensual Encounter',\n",
       " 'Traffic Violation|Consensual Encounter|Consensual Encounter',\n",
       " 'Traffic Violation|Consensual Encounter|Traffic Violation',\n",
       " 'Traffic Violation|Probable Cause',\n",
       " 'Traffic Violation|Probable Cause|Probable Cause',\n",
       " 'Traffic Violation|Probable Cause|Probable Cause|Probable Cause',\n",
       " 'Traffic Violation|Probable Cause|Traffic Violation',\n",
       " 'Traffic Violation|Probable Cause|Traffic Violation|Traffic Violation',\n",
       " 'Traffic Violation|Probation/Parole',\n",
       " 'Traffic Violation|Probation/Parole|Probation/Parole|Traffic Violation',\n",
       " 'Traffic Violation|Probation/Parole|Traffic Violation|Traffic Violation',\n",
       " 'Traffic Violation|Reasonable Suspicion',\n",
       " 'Traffic Violation|Reasonable Suspicion|Probable Cause',\n",
       " 'Traffic Violation|Reasonable Suspicion|Probable Cause|Traffic Violation|Traffic Violation',\n",
       " 'Traffic Violation|Reasonable Suspicion|Reasonable Suspicion',\n",
       " 'Traffic Violation|Traffic Violation|Probable Cause',\n",
       " 'Traffic Violation|Traffic Violation|Probable Cause|Probable Cause',\n",
       " 'Traffic Violation|Traffic Violation|Probation/Parole',\n",
       " 'Traffic Violation|Traffic Violation|Reasonable Suspicion',\n",
       " 'Traffic Violation|Traffic Violation|Traffic Violation|Probable Cause',\n",
       " 'Traffic Violation|Traffic Violation|Traffic Violation|Traffic Violation|Consensual Encounter',\n",
       " 'Traffic Violation|Traffic Violation|Traffic Violation|Traffic Violation|Probable Cause',\n",
       " 'Traffic Violation|Traffic Violation|Traffic Violation|Traffic Violation|Reasonable Suspicion'}"
      ]
     },
     "execution_count": 29,
     "metadata": {},
     "output_type": "execute_result"
    }
   ],
   "source": [
    "set(data['reason_for_stop'])"
   ]
  },
  {
   "cell_type": "code",
   "execution_count": 30,
   "metadata": {
    "scrolled": true
   },
   "outputs": [
    {
     "data": {
      "text/html": [
       "<div>\n",
       "<style scoped>\n",
       "    .dataframe tbody tr th:only-of-type {\n",
       "        vertical-align: middle;\n",
       "    }\n",
       "\n",
       "    .dataframe tbody tr th {\n",
       "        vertical-align: top;\n",
       "    }\n",
       "\n",
       "    .dataframe thead th {\n",
       "        text-align: right;\n",
       "    }\n",
       "</style>\n",
       "<table border=\"1\" class=\"dataframe\">\n",
       "  <thead>\n",
       "    <tr style=\"text-align: right;\">\n",
       "      <th></th>\n",
       "      <th>subject_race</th>\n",
       "      <th>subject_sex</th>\n",
       "      <th>lat</th>\n",
       "      <th>lng</th>\n",
       "      <th>subject_age</th>\n",
       "      <th>reason_for_stop</th>\n",
       "      <th>action</th>\n",
       "    </tr>\n",
       "  </thead>\n",
       "  <tbody>\n",
       "    <tr>\n",
       "      <th>0</th>\n",
       "      <td>asian/pacific islander</td>\n",
       "      <td>female</td>\n",
       "      <td>37.803084</td>\n",
       "      <td>-122.237247</td>\n",
       "      <td>29.0</td>\n",
       "      <td>Traffic Violation</td>\n",
       "      <td>True</td>\n",
       "    </tr>\n",
       "    <tr>\n",
       "      <th>1</th>\n",
       "      <td>black</td>\n",
       "      <td>male</td>\n",
       "      <td>37.767568</td>\n",
       "      <td>-122.196820</td>\n",
       "      <td>29.0</td>\n",
       "      <td>Probation/Parole</td>\n",
       "      <td>False</td>\n",
       "    </tr>\n",
       "    <tr>\n",
       "      <th>2</th>\n",
       "      <td>white</td>\n",
       "      <td>male</td>\n",
       "      <td>37.820599</td>\n",
       "      <td>-122.270734</td>\n",
       "      <td>29.0</td>\n",
       "      <td>Traffic Violation</td>\n",
       "      <td>False</td>\n",
       "    </tr>\n",
       "    <tr>\n",
       "      <th>3</th>\n",
       "      <td>black</td>\n",
       "      <td>male</td>\n",
       "      <td>37.821246</td>\n",
       "      <td>-122.276488</td>\n",
       "      <td>29.0</td>\n",
       "      <td>Traffic Violation</td>\n",
       "      <td>False</td>\n",
       "    </tr>\n",
       "    <tr>\n",
       "      <th>4</th>\n",
       "      <td>hispanic</td>\n",
       "      <td>female</td>\n",
       "      <td>37.802937</td>\n",
       "      <td>-122.271738</td>\n",
       "      <td>29.0</td>\n",
       "      <td>Probable Cause</td>\n",
       "      <td>True</td>\n",
       "    </tr>\n",
       "  </tbody>\n",
       "</table>\n",
       "</div>"
      ],
      "text/plain": [
       "             subject_race subject_sex        lat         lng  subject_age  \\\n",
       "0  asian/pacific islander      female  37.803084 -122.237247         29.0   \n",
       "1                   black        male  37.767568 -122.196820         29.0   \n",
       "2                   white        male  37.820599 -122.270734         29.0   \n",
       "3                   black        male  37.821246 -122.276488         29.0   \n",
       "4                hispanic      female  37.802937 -122.271738         29.0   \n",
       "\n",
       "     reason_for_stop  action  \n",
       "0  Traffic Violation    True  \n",
       "1   Probation/Parole   False  \n",
       "2  Traffic Violation   False  \n",
       "3  Traffic Violation   False  \n",
       "4     Probable Cause    True  "
      ]
     },
     "execution_count": 30,
     "metadata": {},
     "output_type": "execute_result"
    }
   ],
   "source": [
    "data[inputs + label].head()"
   ]
  },
  {
   "cell_type": "code",
   "execution_count": 31,
   "metadata": {},
   "outputs": [],
   "source": [
    "races = list(set(data['subject_race']))\n",
    "sexes = list(set(data['subject_sex']))\n",
    "reasons = list(set(data['reason_for_stop']))"
   ]
  },
  {
   "cell_type": "code",
   "execution_count": 32,
   "metadata": {},
   "outputs": [],
   "source": [
    "data['clean_lng'] = data['lng'] - data['lng'].mean() \n",
    "data['clean_lat'] = data['lat'] - data['lat'].mean()\n",
    "data['clean_age'] = data['subject_age'] - data['subject_age'].mean()"
   ]
  },
  {
   "cell_type": "code",
   "execution_count": 33,
   "metadata": {
    "scrolled": true
   },
   "outputs": [],
   "source": [
    "data['race'] = data.apply(lambda row: races.index(row['subject_race']), axis=1)\n",
    "data['sex']= data.apply(lambda row: sexes.index(row['subject_sex']), axis=1)\n",
    "data['reason']= data.apply(lambda row: reasons.index(row['reason_for_stop']), axis=1).astype(int)"
   ]
  },
  {
   "cell_type": "code",
   "execution_count": 34,
   "metadata": {},
   "outputs": [],
   "source": [
    "inputs = ['race', 'sex', 'clean_lat', 'clean_lng', 'clean_age']#, 'reason']\n",
    "label = 'action'"
   ]
  },
  {
   "cell_type": "markdown",
   "metadata": {},
   "source": [
    "## Linear Model"
   ]
  },
  {
   "cell_type": "code",
   "execution_count": 35,
   "metadata": {},
   "outputs": [],
   "source": [
    "from sklearn.linear_model import LinearRegression"
   ]
  },
  {
   "cell_type": "code",
   "execution_count": 43,
   "metadata": {},
   "outputs": [],
   "source": [
    "data_clean = data[inputs + [label]].dropna(axis = 0, subset= inputs + [label])"
   ]
  },
  {
   "cell_type": "code",
   "execution_count": 48,
   "metadata": {},
   "outputs": [
    {
     "data": {
      "text/plain": [
       "((133293, 5), (133293,))"
      ]
     },
     "execution_count": 48,
     "metadata": {},
     "output_type": "execute_result"
    }
   ],
   "source": [
    "X = data_clean[inputs]\n",
    "y = data_clean[label]\n",
    "X.shape, y.shape"
   ]
  },
  {
   "cell_type": "code",
   "execution_count": 52,
   "metadata": {},
   "outputs": [
    {
     "data": {
      "text/plain": [
       "0.5351593857141785"
      ]
     },
     "execution_count": 52,
     "metadata": {},
     "output_type": "execute_result"
    }
   ],
   "source": [
    "reg = LinearRegression().fit(X, y)\n",
    "np.mean((reg.predict(X) > .5) == y)\n"
   ]
  },
  {
   "cell_type": "code",
   "execution_count": 53,
   "metadata": {},
   "outputs": [],
   "source": [
    "from sklearn.linear_model import LogisticRegression"
   ]
  },
  {
   "cell_type": "code",
   "execution_count": 54,
   "metadata": {},
   "outputs": [
    {
     "name": "stderr",
     "output_type": "stream",
     "text": [
      "/home/alex/.local/lib/python3.5/site-packages/sklearn/linear_model/logistic.py:433: FutureWarning: Default solver will be changed to 'lbfgs' in 0.22. Specify a solver to silence this warning.\n",
      "  FutureWarning)\n"
     ]
    },
    {
     "data": {
      "text/plain": [
       "0.5354519742222023"
      ]
     },
     "execution_count": 54,
     "metadata": {},
     "output_type": "execute_result"
    }
   ],
   "source": [
    "reg = LogisticRegression().fit(X, y)\n",
    "np.mean((reg.predict(X) > .5) == y)\n"
   ]
  },
  {
   "cell_type": "code",
   "execution_count": 55,
   "metadata": {},
   "outputs": [
    {
     "data": {
      "text/plain": [
       "0.5532098459784085"
      ]
     },
     "execution_count": 55,
     "metadata": {},
     "output_type": "execute_result"
    }
   ],
   "source": [
    "from sklearn.neural_network import MLPClassifier\n",
    "reg = MLPClassifier().fit(X, y)\n",
    "np.mean((reg.predict(X) > .5) == y)\n"
   ]
  },
  {
   "cell_type": "code",
   "execution_count": null,
   "metadata": {},
   "outputs": [],
   "source": []
  }
 ],
 "metadata": {
  "kernelspec": {
   "display_name": "Python 3",
   "language": "python",
   "name": "python3"
  },
  "language_info": {
   "codemirror_mode": {
    "name": "ipython",
    "version": 3
   },
   "file_extension": ".py",
   "mimetype": "text/x-python",
   "name": "python",
   "nbconvert_exporter": "python",
   "pygments_lexer": "ipython3",
   "version": "3.5.2"
  }
 },
 "nbformat": 4,
 "nbformat_minor": 2
}
